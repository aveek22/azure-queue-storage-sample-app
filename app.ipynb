{
 "metadata": {
  "language_info": {
   "codemirror_mode": {
    "name": "ipython",
    "version": 3
   },
   "file_extension": ".py",
   "mimetype": "text/x-python",
   "name": "python",
   "nbconvert_exporter": "python",
   "pygments_lexer": "ipython3",
   "version": "3.9.2"
  },
  "orig_nbformat": 4,
  "kernelspec": {
   "name": "python3",
   "display_name": "Python 3.9.2 64-bit"
  },
  "interpreter": {
   "hash": "4cd7ab41f5fca4b9b44701077e38c5ffd31fe66a6cab21e0214b68d958d0e462"
  }
 },
 "nbformat": 4,
 "nbformat_minor": 2,
 "cells": [
  {
   "cell_type": "code",
   "execution_count": 1,
   "metadata": {},
   "outputs": [],
   "source": [
    "STORAGE_ACCOUNT_CONNECTION_STRING = 'DefaultEndpointsProtocol=https;AccountName=sqlshackstorage;AccountKey=2tR4D4lRowxqKt1Eo7Lyt2nGxR00V65wqmYKtJjcQKpgRsNkVFD8sAKRdVtbkXVy2ql4+On6M56pYV/dhaeaiw==;EndpointSuffix=core.windows.net'"
   ]
  },
  {
   "cell_type": "code",
   "execution_count": 2,
   "metadata": {},
   "outputs": [],
   "source": [
    "from azure.storage.queue import (\n",
    "        QueueClient,\n",
    "        BinaryBase64EncodePolicy,\n",
    "        BinaryBase64DecodePolicy\n",
    ")"
   ]
  },
  {
   "cell_type": "code",
   "execution_count": 3,
   "metadata": {},
   "outputs": [
    {
     "output_type": "execute_result",
     "data": {
      "text/plain": [
       "{'x-ms-request-id': '6964434f-c003-0018-1791-6245cd000000',\n",
       " 'x-ms-version': '2018-03-28',\n",
       " 'Date': datetime.datetime(2021, 6, 16, 9, 27, 55, tzinfo=datetime.timezone.utc)}"
      ]
     },
     "metadata": {},
     "execution_count": 3
    }
   ],
   "source": [
    "# Setup a name for the queue\n",
    "queue_name = 'queue-orders'\n",
    "\n",
    "# Create the queue client using the SDK and the connection string\n",
    "queue_client = QueueClient.from_connection_string(STORAGE_ACCOUNT_CONNECTION_STRING, queue_name)\n",
    "\n",
    "# Create the queue\n",
    "queue_client.create_queue()"
   ]
  },
  {
   "cell_type": "code",
   "execution_count": 4,
   "metadata": {},
   "outputs": [
    {
     "output_type": "execute_result",
     "data": {
      "text/plain": [
       "{'id': '1747ad62-eff7-49f2-afab-2630e0aa709a', 'inserted_on': datetime.datetime(2021, 6, 16, 9, 34, 31, tzinfo=datetime.timezone.utc), 'expires_on': datetime.datetime(2021, 6, 23, 9, 34, 31, tzinfo=datetime.timezone.utc), 'dequeue_count': None, 'content': 'Hello SQL Shack reader!!', 'pop_receipt': 'AgAAAAMAAAAAAAAAyPArz5Ji1wE=', 'next_visible_on': datetime.datetime(2021, 6, 16, 9, 34, 31, tzinfo=datetime.timezone.utc)}"
      ]
     },
     "metadata": {},
     "execution_count": 4
    }
   ],
   "source": [
    "# Create a message\n",
    "message = f'Hello SQL Shack reader!!'\n",
    "\n",
    "# Send the message to the queue\n",
    "queue_client.send_message(message)"
   ]
  },
  {
   "cell_type": "code",
   "execution_count": 5,
   "metadata": {},
   "outputs": [
    {
     "output_type": "stream",
     "name": "stdout",
     "text": [
      "Peeked message: Hello SQL Shack reader!!\n"
     ]
    }
   ],
   "source": [
    "# Peek at the first message\n",
    "messages = queue_client.peek_messages()\n",
    "\n",
    "for peeked_message in messages:\n",
    "    print(\"Peeked message: \" + peeked_message.content)"
   ]
  },
  {
   "cell_type": "code",
   "execution_count": 6,
   "metadata": {},
   "outputs": [
    {
     "output_type": "stream",
     "name": "stdout",
     "text": [
      "Dequeueing message: Hello SQL Shack reader!!\n"
     ]
    }
   ],
   "source": [
    "# Fetch the messages from the queue\n",
    "messages = queue_client.receive_messages()\n",
    "\n",
    "# Processing logic\n",
    "# DO SOMETHING HERE\n",
    "\n",
    "# Loop through each message in the queue and remove them\n",
    "for message in messages:\n",
    "    print(\"Dequeueing message: \" + message.content)\n",
    "    queue_client.delete_message(message.id, message.pop_receipt)"
   ]
  },
  {
   "cell_type": "code",
   "execution_count": 7,
   "metadata": {},
   "outputs": [],
   "source": [
    "# Delete the queue\n",
    "queue_client.delete_queue()"
   ]
  },
  {
   "cell_type": "code",
   "execution_count": null,
   "metadata": {},
   "outputs": [],
   "source": []
  }
 ]
}